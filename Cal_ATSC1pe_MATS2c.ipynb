{
 "cells": [
  {
   "cell_type": "code",
   "execution_count": 1,
   "id": "c581f95c-516a-43b3-8bc9-f6a68077927b",
   "metadata": {},
   "outputs": [
    {
     "name": "stderr",
     "output_type": "stream",
     "text": [
      "100%|██████████████████████████████████████████████████████████████████████████████████| 37/37 [00:00<00:00, 60.07it/s]"
     ]
    },
    {
     "name": "stdout",
     "output_type": "stream",
     "text": [
      "处理完成：有效 37，无效 0\n"
     ]
    },
    {
     "name": "stderr",
     "output_type": "stream",
     "text": [
      "\n"
     ]
    }
   ],
   "source": [
    "import pandas as pd\n",
    "from mordred import Calculator, descriptors\n",
    "from rdkit import Chem\n",
    "from tqdm import tqdm\n",
    "import gc\n",
    "\n",
    "calc = Calculator([descriptors.Autocorrelation])\n",
    "\n",
    "def process_chunk(chunk):\n",
    "    valid_mols, valid_smiles = [], []\n",
    "    invalid = 0\n",
    "    \n",
    "    for smiles in chunk['SMILES']: \n",
    "        mol = Chem.MolFromSmiles(smiles)\n",
    "        if mol:\n",
    "            valid_mols.append(mol)\n",
    "            valid_smiles.append(smiles)\n",
    "        else:\n",
    "            invalid += 1\n",
    "    \n",
    "    if valid_mols:\n",
    "        results = calc.pandas(valid_mols)\n",
    "        results.insert(0, 'SMILES', valid_smiles)\n",
    "        target_cols = ['SMILES']\n",
    "        for col in ['ATSC1pe', 'MATS2c']:\n",
    "            if col in results.columns:\n",
    "                target_cols.append(col)\n",
    "        results = results[target_cols]\n",
    "        return results, invalid\n",
    "    return None, invalid\n",
    "\n",
    "chunk_size = 200000\n",
    "total_valid = total_invalid = 0\n",
    "\n",
    "for chunk_number, chunk in enumerate(pd.read_csv(\"11.csv\", chunksize=chunk_size)):\n",
    "    df_result, invalid = process_chunk(chunk)\n",
    "    total_invalid += invalid\n",
    "    \n",
    "    if df_result is not None:\n",
    "        total_valid += len(df_result)\n",
    "        df_result.to_csv(\n",
    "            \"2.csv\",\n",
    "            mode='a',\n",
    "            header=(chunk_number == 0),\n",
    "            index=False\n",
    "        )\n",
    "    \n",
    "    del chunk, df_result\n",
    "    gc.collect()\n",
    "\n",
    "print(f\"处理完成：有效 {total_valid}，无效 {total_invalid}\")"
   ]
  },
  {
   "cell_type": "markdown",
   "id": "8225f9b9-6bc2-411e-b6cc-2600b549b824",
   "metadata": {},
   "source": [
    "# 合并文件"
   ]
  },
  {
   "cell_type": "code",
   "execution_count": 4,
   "id": "f239779f-e656-4cfd-8c2d-1979520a62b7",
   "metadata": {},
   "outputs": [],
   "source": [
    "# 读取文件1的前两列（假设列名为col1、col2）\n",
    "df1 = pd.read_csv('2.csv', usecols=[0, 1, 2])  # 按索引选取\n",
    "# 或根据列名选取：usecols=['col1', 'col2']\n",
    "\n",
    "# 读取文件2的第二、第三列（假设索引为1、2）\n",
    "df2 = pd.read_csv('1.csv', usecols=[1])  # 按索引选取\n",
    "# 或根据列名选取：usecols=['colB', 'colC']"
   ]
  },
  {
   "cell_type": "code",
   "execution_count": 5,
   "id": "355b2c88-f37c-4161-8c4e-e4998043031f",
   "metadata": {},
   "outputs": [],
   "source": [
    "combined_df = pd.concat([df1, df2], axis=1)\n",
    "\n",
    "df1_reset = df1.reset_index(drop=True)\n",
    "df2_reset = df2.reset_index(drop=True)\n",
    "combined_df = pd.concat([df1_reset, df2_reset], axis=1)"
   ]
  },
  {
   "cell_type": "code",
   "execution_count": 7,
   "id": "883deeb8-8182-42bd-bf1b-c3637dbbab9c",
   "metadata": {},
   "outputs": [],
   "source": [
    "combined_df.to_csv('111.csv', index=False)"
   ]
  },
  {
   "cell_type": "code",
   "execution_count": null,
   "id": "4fe4a34a-5447-4914-8861-5151e60e41e4",
   "metadata": {},
   "outputs": [],
   "source": []
  }
 ],
 "metadata": {
  "kernelspec": {
   "display_name": "Python 3 (ipykernel)",
   "language": "python",
   "name": "python3"
  },
  "language_info": {
   "codemirror_mode": {
    "name": "ipython",
    "version": 3
   },
   "file_extension": ".py",
   "mimetype": "text/x-python",
   "name": "python",
   "nbconvert_exporter": "python",
   "pygments_lexer": "ipython3",
   "version": "3.9.21"
  }
 },
 "nbformat": 4,
 "nbformat_minor": 5
}
