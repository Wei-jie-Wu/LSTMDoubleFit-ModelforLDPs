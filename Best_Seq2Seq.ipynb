{
 "cells": [
  {
   "cell_type": "code",
   "execution_count": 1,
   "id": "83dc6259-397f-47ef-bf08-8a426220f31d",
   "metadata": {},
   "outputs": [],
   "source": [
    "import os\n",
    "import pandas as pd\n",
    "import numpy as np\n",
    "import matplotlib.pyplot as plt\n",
    "from rdkit import Chem\n",
    "from rdkit.Chem import Draw\n",
    "from keras.models import Model, load_model\n",
    "from keras.layers import Input, LSTM, Dense, Concatenate\n",
    "from keras import regularizers\n",
    "from keras.callbacks import History, ReduceLROnPlateau, EarlyStopping\n",
    "from keras.optimizers import Adam\n",
    "from sklearn.model_selection import train_test_split\n",
    "\n",
    "smifile = \"Modeldata0406.csv\"\n",
    "data = pd.read_csv(smifile)\n",
    "smiles = data[\"SMILES\"].values\n",
    "target_properties = data[[\"ATSC1pe\", \"MATS2c\", \"SlogP_VSA2\"]].values\n",
    "\n",
    "smiles_train, smiles_test, y_train, y_test = train_test_split(smiles, target_properties, random_state=42)\n"
   ]
  },
  {
   "cell_type": "code",
   "execution_count": 2,
   "id": "b0435844-9c25-4bca-ac65-63b6fba79b05",
   "metadata": {},
   "outputs": [],
   "source": [
    "volcabulary = set(\"\".join(list(data.SMILES)))\n",
    "volcabulary.update({'<go>', '<eos>'})\n",
    "docs = dict((c,i) for i,c in enumerate(volcabulary))\n",
    "docs_swap= {v: k for k, v in docs.items()}\n",
    "embed = max([len(smile) for smile in data.SMILES]) + 5"
   ]
  },
  {
   "cell_type": "code",
   "execution_count": 3,
   "id": "dd3cf4ef-d11b-4752-b43e-845a715cfad2",
   "metadata": {},
   "outputs": [
    {
     "name": "stdout",
     "output_type": "stream",
     "text": [
      "X_train shape: (2286430, 36, 22)\n",
      "Y_train shape: (2286430, 36, 22)\n",
      "y_train shape: (2286430, 3)\n"
     ]
    }
   ],
   "source": [
    "def vectorize(smiles):\n",
    "    one_hot = np.zeros((smiles.shape[0], embed, len(volcabulary)), dtype=np.int8)\n",
    "    for i, smile in enumerate(smiles):\n",
    "        one_hot[i, 0, docs['<go>']] = 1\n",
    "        for j, c in enumerate(smile):\n",
    "            one_hot[i, j + 1, docs[c]] = 1\n",
    "        one_hot[i, len(smile) + 1:, docs['<eos>']] = 1\n",
    "    return one_hot[:, :-1, :], one_hot[:, 1:, :]\n",
    "\n",
    "X_train, Y_train = vectorize(smiles_train)\n",
    "X_test, Y_test = vectorize(smiles_test)\n",
    "\n",
    "print(f\"X_train shape: {X_train.shape}\")\n",
    "print(f\"Y_train shape: {Y_train.shape}\")\n",
    "print(f\"y_train shape: {y_train.shape}\")"
   ]
  },
  {
   "cell_type": "code",
   "execution_count": 4,
   "id": "cbbc1b81-7699-4375-a339-ce8355dd4ff5",
   "metadata": {},
   "outputs": [
    {
     "data": {
      "text/plain": [
       "'<go>C=C(CO)C1(C)OC1C=O<eos><eos><eos><eos><eos><eos><eos><eos><eos><eos><eos><eos><eos><eos><eos><eos><eos>'"
      ]
     },
     "execution_count": 4,
     "metadata": {},
     "output_type": "execute_result"
    }
   ],
   "source": [
    "\"\".join([docs_swap[idx] for idx in np.argmax(X_train[0,:,:], axis=1)])"
   ]
  },
  {
   "cell_type": "code",
   "execution_count": 5,
   "id": "7cfd7f45-5bf6-45fd-9a73-73791967c560",
   "metadata": {},
   "outputs": [
    {
     "data": {
      "text/plain": [
       "'C=C(CO)C1(C)OC1C=O<eos><eos><eos><eos><eos><eos><eos><eos><eos><eos><eos><eos><eos><eos><eos><eos><eos><eos>'"
      ]
     },
     "execution_count": 5,
     "metadata": {},
     "output_type": "execute_result"
    }
   ],
   "source": [
    "\"\".join([docs_swap[idx] for idx in np.argmax(Y_train[0,:,:], axis=1)])"
   ]
  },
  {
   "cell_type": "markdown",
   "id": "104c613a-cc70-4031-8b03-ed63104ca824",
   "metadata": {},
   "source": [
    "## LSTM"
   ]
  },
  {
   "cell_type": "code",
   "execution_count": 6,
   "id": "abb8a829-5b48-4a93-845a-ab016bc25437",
   "metadata": {},
   "outputs": [
    {
     "data": {
      "text/html": [
       "<pre style=\"white-space:pre;overflow-x:auto;line-height:normal;font-family:Menlo,'DejaVu Sans Mono',consolas,'Courier New',monospace\"><span style=\"font-weight: bold\">Model: \"functional\"</span>\n",
       "</pre>\n"
      ],
      "text/plain": [
       "\u001b[1mModel: \"functional\"\u001b[0m\n"
      ]
     },
     "metadata": {},
     "output_type": "display_data"
    },
    {
     "data": {
      "text/html": [
       "<pre style=\"white-space:pre;overflow-x:auto;line-height:normal;font-family:Menlo,'DejaVu Sans Mono',consolas,'Courier New',monospace\">┏━━━━━━━━━━━━━━━━━━━━━━━━━━━━━━━┳━━━━━━━━━━━━━━━━━━━━━━━━━━━┳━━━━━━━━━━━━━━━━━┳━━━━━━━━━━━━━━━━━━━━━━━━━━━━┓\n",
       "┃<span style=\"font-weight: bold\"> Layer (type)                  </span>┃<span style=\"font-weight: bold\"> Output Shape              </span>┃<span style=\"font-weight: bold\">         Param # </span>┃<span style=\"font-weight: bold\"> Connected to               </span>┃\n",
       "┡━━━━━━━━━━━━━━━━━━━━━━━━━━━━━━━╇━━━━━━━━━━━━━━━━━━━━━━━━━━━╇━━━━━━━━━━━━━━━━━╇━━━━━━━━━━━━━━━━━━━━━━━━━━━━┩\n",
       "│ input_layer (<span style=\"color: #0087ff; text-decoration-color: #0087ff\">InputLayer</span>)      │ (<span style=\"color: #00d7ff; text-decoration-color: #00d7ff\">None</span>, <span style=\"color: #00af00; text-decoration-color: #00af00\">36</span>, <span style=\"color: #00af00; text-decoration-color: #00af00\">22</span>)            │               <span style=\"color: #00af00; text-decoration-color: #00af00\">0</span> │ -                          │\n",
       "├───────────────────────────────┼───────────────────────────┼─────────────────┼────────────────────────────┤\n",
       "│ lstm (<span style=\"color: #0087ff; text-decoration-color: #0087ff\">LSTM</span>)                   │ [(<span style=\"color: #00d7ff; text-decoration-color: #00d7ff\">None</span>, <span style=\"color: #00af00; text-decoration-color: #00af00\">128</span>), (<span style=\"color: #00d7ff; text-decoration-color: #00d7ff\">None</span>,      │          <span style=\"color: #00af00; text-decoration-color: #00af00\">77,312</span> │ input_layer[<span style=\"color: #00af00; text-decoration-color: #00af00\">0</span>][<span style=\"color: #00af00; text-decoration-color: #00af00\">0</span>]          │\n",
       "│                               │ <span style=\"color: #00af00; text-decoration-color: #00af00\">128</span>), (<span style=\"color: #00d7ff; text-decoration-color: #00d7ff\">None</span>, <span style=\"color: #00af00; text-decoration-color: #00af00\">128</span>)]        │                 │                            │\n",
       "├───────────────────────────────┼───────────────────────────┼─────────────────┼────────────────────────────┤\n",
       "│ property_input (<span style=\"color: #0087ff; text-decoration-color: #0087ff\">InputLayer</span>)   │ (<span style=\"color: #00d7ff; text-decoration-color: #00d7ff\">None</span>, <span style=\"color: #00af00; text-decoration-color: #00af00\">3</span>)                 │               <span style=\"color: #00af00; text-decoration-color: #00af00\">0</span> │ -                          │\n",
       "├───────────────────────────────┼───────────────────────────┼─────────────────┼────────────────────────────┤\n",
       "│ concatenate (<span style=\"color: #0087ff; text-decoration-color: #0087ff\">Concatenate</span>)     │ (<span style=\"color: #00d7ff; text-decoration-color: #00d7ff\">None</span>, <span style=\"color: #00af00; text-decoration-color: #00af00\">259</span>)               │               <span style=\"color: #00af00; text-decoration-color: #00af00\">0</span> │ lstm[<span style=\"color: #00af00; text-decoration-color: #00af00\">0</span>][<span style=\"color: #00af00; text-decoration-color: #00af00\">1</span>], lstm[<span style=\"color: #00af00; text-decoration-color: #00af00\">0</span>][<span style=\"color: #00af00; text-decoration-color: #00af00\">2</span>],    │\n",
       "│                               │                           │                 │ property_input[<span style=\"color: #00af00; text-decoration-color: #00af00\">0</span>][<span style=\"color: #00af00; text-decoration-color: #00af00\">0</span>]       │\n",
       "├───────────────────────────────┼───────────────────────────┼─────────────────┼────────────────────────────┤\n",
       "│ dense (<span style=\"color: #0087ff; text-decoration-color: #0087ff\">Dense</span>)                 │ (<span style=\"color: #00d7ff; text-decoration-color: #00d7ff\">None</span>, <span style=\"color: #00af00; text-decoration-color: #00af00\">64</span>)                │          <span style=\"color: #00af00; text-decoration-color: #00af00\">16,640</span> │ concatenate[<span style=\"color: #00af00; text-decoration-color: #00af00\">0</span>][<span style=\"color: #00af00; text-decoration-color: #00af00\">0</span>]          │\n",
       "├───────────────────────────────┼───────────────────────────┼─────────────────┼────────────────────────────┤\n",
       "│ input_layer_1 (<span style=\"color: #0087ff; text-decoration-color: #0087ff\">InputLayer</span>)    │ (<span style=\"color: #00d7ff; text-decoration-color: #00d7ff\">None</span>, <span style=\"color: #00af00; text-decoration-color: #00af00\">36</span>, <span style=\"color: #00af00; text-decoration-color: #00af00\">22</span>)            │               <span style=\"color: #00af00; text-decoration-color: #00af00\">0</span> │ -                          │\n",
       "├───────────────────────────────┼───────────────────────────┼─────────────────┼────────────────────────────┤\n",
       "│ dense_1 (<span style=\"color: #0087ff; text-decoration-color: #0087ff\">Dense</span>)               │ (<span style=\"color: #00d7ff; text-decoration-color: #00d7ff\">None</span>, <span style=\"color: #00af00; text-decoration-color: #00af00\">128</span>)               │           <span style=\"color: #00af00; text-decoration-color: #00af00\">8,320</span> │ dense[<span style=\"color: #00af00; text-decoration-color: #00af00\">0</span>][<span style=\"color: #00af00; text-decoration-color: #00af00\">0</span>]                │\n",
       "├───────────────────────────────┼───────────────────────────┼─────────────────┼────────────────────────────┤\n",
       "│ dense_2 (<span style=\"color: #0087ff; text-decoration-color: #0087ff\">Dense</span>)               │ (<span style=\"color: #00d7ff; text-decoration-color: #00d7ff\">None</span>, <span style=\"color: #00af00; text-decoration-color: #00af00\">128</span>)               │           <span style=\"color: #00af00; text-decoration-color: #00af00\">8,320</span> │ dense[<span style=\"color: #00af00; text-decoration-color: #00af00\">0</span>][<span style=\"color: #00af00; text-decoration-color: #00af00\">0</span>]                │\n",
       "├───────────────────────────────┼───────────────────────────┼─────────────────┼────────────────────────────┤\n",
       "│ lstm_1 (<span style=\"color: #0087ff; text-decoration-color: #0087ff\">LSTM</span>)                 │ (<span style=\"color: #00d7ff; text-decoration-color: #00d7ff\">None</span>, <span style=\"color: #00af00; text-decoration-color: #00af00\">36</span>, <span style=\"color: #00af00; text-decoration-color: #00af00\">128</span>)           │          <span style=\"color: #00af00; text-decoration-color: #00af00\">77,312</span> │ input_layer_1[<span style=\"color: #00af00; text-decoration-color: #00af00\">0</span>][<span style=\"color: #00af00; text-decoration-color: #00af00\">0</span>],       │\n",
       "│                               │                           │                 │ dense_1[<span style=\"color: #00af00; text-decoration-color: #00af00\">0</span>][<span style=\"color: #00af00; text-decoration-color: #00af00\">0</span>],             │\n",
       "│                               │                           │                 │ dense_2[<span style=\"color: #00af00; text-decoration-color: #00af00\">0</span>][<span style=\"color: #00af00; text-decoration-color: #00af00\">0</span>]              │\n",
       "├───────────────────────────────┼───────────────────────────┼─────────────────┼────────────────────────────┤\n",
       "│ dense_3 (<span style=\"color: #0087ff; text-decoration-color: #0087ff\">Dense</span>)               │ (<span style=\"color: #00d7ff; text-decoration-color: #00d7ff\">None</span>, <span style=\"color: #00af00; text-decoration-color: #00af00\">36</span>, <span style=\"color: #00af00; text-decoration-color: #00af00\">22</span>)            │           <span style=\"color: #00af00; text-decoration-color: #00af00\">2,838</span> │ lstm_1[<span style=\"color: #00af00; text-decoration-color: #00af00\">0</span>][<span style=\"color: #00af00; text-decoration-color: #00af00\">0</span>]               │\n",
       "└───────────────────────────────┴───────────────────────────┴─────────────────┴────────────────────────────┘\n",
       "</pre>\n"
      ],
      "text/plain": [
       "┏━━━━━━━━━━━━━━━━━━━━━━━━━━━━━━━┳━━━━━━━━━━━━━━━━━━━━━━━━━━━┳━━━━━━━━━━━━━━━━━┳━━━━━━━━━━━━━━━━━━━━━━━━━━━━┓\n",
       "┃\u001b[1m \u001b[0m\u001b[1mLayer (type)                 \u001b[0m\u001b[1m \u001b[0m┃\u001b[1m \u001b[0m\u001b[1mOutput Shape             \u001b[0m\u001b[1m \u001b[0m┃\u001b[1m \u001b[0m\u001b[1m        Param #\u001b[0m\u001b[1m \u001b[0m┃\u001b[1m \u001b[0m\u001b[1mConnected to              \u001b[0m\u001b[1m \u001b[0m┃\n",
       "┡━━━━━━━━━━━━━━━━━━━━━━━━━━━━━━━╇━━━━━━━━━━━━━━━━━━━━━━━━━━━╇━━━━━━━━━━━━━━━━━╇━━━━━━━━━━━━━━━━━━━━━━━━━━━━┩\n",
       "│ input_layer (\u001b[38;5;33mInputLayer\u001b[0m)      │ (\u001b[38;5;45mNone\u001b[0m, \u001b[38;5;34m36\u001b[0m, \u001b[38;5;34m22\u001b[0m)            │               \u001b[38;5;34m0\u001b[0m │ -                          │\n",
       "├───────────────────────────────┼───────────────────────────┼─────────────────┼────────────────────────────┤\n",
       "│ lstm (\u001b[38;5;33mLSTM\u001b[0m)                   │ [(\u001b[38;5;45mNone\u001b[0m, \u001b[38;5;34m128\u001b[0m), (\u001b[38;5;45mNone\u001b[0m,      │          \u001b[38;5;34m77,312\u001b[0m │ input_layer[\u001b[38;5;34m0\u001b[0m][\u001b[38;5;34m0\u001b[0m]          │\n",
       "│                               │ \u001b[38;5;34m128\u001b[0m), (\u001b[38;5;45mNone\u001b[0m, \u001b[38;5;34m128\u001b[0m)]        │                 │                            │\n",
       "├───────────────────────────────┼───────────────────────────┼─────────────────┼────────────────────────────┤\n",
       "│ property_input (\u001b[38;5;33mInputLayer\u001b[0m)   │ (\u001b[38;5;45mNone\u001b[0m, \u001b[38;5;34m3\u001b[0m)                 │               \u001b[38;5;34m0\u001b[0m │ -                          │\n",
       "├───────────────────────────────┼───────────────────────────┼─────────────────┼────────────────────────────┤\n",
       "│ concatenate (\u001b[38;5;33mConcatenate\u001b[0m)     │ (\u001b[38;5;45mNone\u001b[0m, \u001b[38;5;34m259\u001b[0m)               │               \u001b[38;5;34m0\u001b[0m │ lstm[\u001b[38;5;34m0\u001b[0m][\u001b[38;5;34m1\u001b[0m], lstm[\u001b[38;5;34m0\u001b[0m][\u001b[38;5;34m2\u001b[0m],    │\n",
       "│                               │                           │                 │ property_input[\u001b[38;5;34m0\u001b[0m][\u001b[38;5;34m0\u001b[0m]       │\n",
       "├───────────────────────────────┼───────────────────────────┼─────────────────┼────────────────────────────┤\n",
       "│ dense (\u001b[38;5;33mDense\u001b[0m)                 │ (\u001b[38;5;45mNone\u001b[0m, \u001b[38;5;34m64\u001b[0m)                │          \u001b[38;5;34m16,640\u001b[0m │ concatenate[\u001b[38;5;34m0\u001b[0m][\u001b[38;5;34m0\u001b[0m]          │\n",
       "├───────────────────────────────┼───────────────────────────┼─────────────────┼────────────────────────────┤\n",
       "│ input_layer_1 (\u001b[38;5;33mInputLayer\u001b[0m)    │ (\u001b[38;5;45mNone\u001b[0m, \u001b[38;5;34m36\u001b[0m, \u001b[38;5;34m22\u001b[0m)            │               \u001b[38;5;34m0\u001b[0m │ -                          │\n",
       "├───────────────────────────────┼───────────────────────────┼─────────────────┼────────────────────────────┤\n",
       "│ dense_1 (\u001b[38;5;33mDense\u001b[0m)               │ (\u001b[38;5;45mNone\u001b[0m, \u001b[38;5;34m128\u001b[0m)               │           \u001b[38;5;34m8,320\u001b[0m │ dense[\u001b[38;5;34m0\u001b[0m][\u001b[38;5;34m0\u001b[0m]                │\n",
       "├───────────────────────────────┼───────────────────────────┼─────────────────┼────────────────────────────┤\n",
       "│ dense_2 (\u001b[38;5;33mDense\u001b[0m)               │ (\u001b[38;5;45mNone\u001b[0m, \u001b[38;5;34m128\u001b[0m)               │           \u001b[38;5;34m8,320\u001b[0m │ dense[\u001b[38;5;34m0\u001b[0m][\u001b[38;5;34m0\u001b[0m]                │\n",
       "├───────────────────────────────┼───────────────────────────┼─────────────────┼────────────────────────────┤\n",
       "│ lstm_1 (\u001b[38;5;33mLSTM\u001b[0m)                 │ (\u001b[38;5;45mNone\u001b[0m, \u001b[38;5;34m36\u001b[0m, \u001b[38;5;34m128\u001b[0m)           │          \u001b[38;5;34m77,312\u001b[0m │ input_layer_1[\u001b[38;5;34m0\u001b[0m][\u001b[38;5;34m0\u001b[0m],       │\n",
       "│                               │                           │                 │ dense_1[\u001b[38;5;34m0\u001b[0m][\u001b[38;5;34m0\u001b[0m],             │\n",
       "│                               │                           │                 │ dense_2[\u001b[38;5;34m0\u001b[0m][\u001b[38;5;34m0\u001b[0m]              │\n",
       "├───────────────────────────────┼───────────────────────────┼─────────────────┼────────────────────────────┤\n",
       "│ dense_3 (\u001b[38;5;33mDense\u001b[0m)               │ (\u001b[38;5;45mNone\u001b[0m, \u001b[38;5;34m36\u001b[0m, \u001b[38;5;34m22\u001b[0m)            │           \u001b[38;5;34m2,838\u001b[0m │ lstm_1[\u001b[38;5;34m0\u001b[0m][\u001b[38;5;34m0\u001b[0m]               │\n",
       "└───────────────────────────────┴───────────────────────────┴─────────────────┴────────────────────────────┘\n"
      ]
     },
     "metadata": {},
     "output_type": "display_data"
    },
    {
     "data": {
      "text/html": [
       "<pre style=\"white-space:pre;overflow-x:auto;line-height:normal;font-family:Menlo,'DejaVu Sans Mono',consolas,'Courier New',monospace\"><span style=\"font-weight: bold\"> Total params: </span><span style=\"color: #00af00; text-decoration-color: #00af00\">190,742</span> (745.09 KB)\n",
       "</pre>\n"
      ],
      "text/plain": [
       "\u001b[1m Total params: \u001b[0m\u001b[38;5;34m190,742\u001b[0m (745.09 KB)\n"
      ]
     },
     "metadata": {},
     "output_type": "display_data"
    },
    {
     "data": {
      "text/html": [
       "<pre style=\"white-space:pre;overflow-x:auto;line-height:normal;font-family:Menlo,'DejaVu Sans Mono',consolas,'Courier New',monospace\"><span style=\"font-weight: bold\"> Trainable params: </span><span style=\"color: #00af00; text-decoration-color: #00af00\">190,742</span> (745.09 KB)\n",
       "</pre>\n"
      ],
      "text/plain": [
       "\u001b[1m Trainable params: \u001b[0m\u001b[38;5;34m190,742\u001b[0m (745.09 KB)\n"
      ]
     },
     "metadata": {},
     "output_type": "display_data"
    },
    {
     "data": {
      "text/html": [
       "<pre style=\"white-space:pre;overflow-x:auto;line-height:normal;font-family:Menlo,'DejaVu Sans Mono',consolas,'Courier New',monospace\"><span style=\"font-weight: bold\"> Non-trainable params: </span><span style=\"color: #00af00; text-decoration-color: #00af00\">0</span> (0.00 B)\n",
       "</pre>\n"
      ],
      "text/plain": [
       "\u001b[1m Non-trainable params: \u001b[0m\u001b[38;5;34m0\u001b[0m (0.00 B)\n"
      ]
     },
     "metadata": {},
     "output_type": "display_data"
    }
   ],
   "source": [
    "input_shape = X_train.shape[1:]\n",
    "output_dim = Y_train.shape[-1]\n",
    "latent_dim = 64\n",
    "lstm_dim = 128\n",
    "unroll = False\n",
    "\n",
    "encoder_inputs = Input(shape=input_shape)\n",
    "encoder = LSTM(lstm_dim, return_state=True, unroll=unroll)\n",
    "encoder_outputs, state_h, state_c = encoder(encoder_inputs)\n",
    "\n",
    "property_input = Input(shape=(3,), name=\"property_input\")  # 4个目标性质\n",
    "merged = Concatenate(axis=-1)([state_h, state_c, property_input])  # 合并状态和性质\n",
    "\n",
    "neck = Dense(latent_dim, activation=\"relu\", kernel_regularizer=regularizers.l2(0.001))\n",
    "neck_outputs = neck(merged)\n",
    "\n",
    "decode_h = Dense(lstm_dim, activation=\"relu\")\n",
    "decode_c = Dense(lstm_dim, activation=\"relu\")\n",
    "state_h_decoded = decode_h(neck_outputs)\n",
    "state_c_decoded = decode_c(neck_outputs)\n",
    "encoder_states = [state_h_decoded, state_c_decoded]\n",
    "\n",
    "decoder_inputs = Input(shape=input_shape)\n",
    "decoder_lstm = LSTM(lstm_dim, return_sequences=True, unroll=unroll)\n",
    "decoder_outputs = decoder_lstm(decoder_inputs, initial_state=encoder_states)\n",
    "decoder_dense = Dense(output_dim, activation='softmax')\n",
    "decoder_outputs = decoder_dense(decoder_outputs)\n",
    "\n",
    "model = Model([encoder_inputs, property_input, decoder_inputs], decoder_outputs)\n",
    "model.summary()"
   ]
  },
  {
   "cell_type": "markdown",
   "id": "09922625-a4b6-412d-8ac8-41136e66e683",
   "metadata": {},
   "source": [
    "# 模型训练"
   ]
  },
  {
   "cell_type": "code",
   "execution_count": 7,
   "id": "a9fe3933-7bcb-4384-b707-e9acac8b288a",
   "metadata": {},
   "outputs": [
    {
     "name": "stdout",
     "output_type": "stream",
     "text": [
      "Epoch 1/60\n",
      "\u001b[1m4466/4466\u001b[0m \u001b[32m━━━━━━━━━━━━━━━━━━━━\u001b[0m\u001b[37m\u001b[0m \u001b[1m805s\u001b[0m 180ms/step - loss: 0.6602 - val_loss: 0.3316 - learning_rate: 0.0010\n",
      "Epoch 2/60\n",
      "\u001b[1m4466/4466\u001b[0m \u001b[32m━━━━━━━━━━━━━━━━━━━━\u001b[0m\u001b[37m\u001b[0m \u001b[1m813s\u001b[0m 182ms/step - loss: 0.2729 - val_loss: 0.1776 - learning_rate: 0.0010\n",
      "Epoch 3/60\n",
      "\u001b[1m4466/4466\u001b[0m \u001b[32m━━━━━━━━━━━━━━━━━━━━\u001b[0m\u001b[37m\u001b[0m \u001b[1m771s\u001b[0m 173ms/step - loss: 0.1711 - val_loss: 0.1016 - learning_rate: 0.0010\n",
      "Epoch 4/60\n",
      "\u001b[1m4466/4466\u001b[0m \u001b[32m━━━━━━━━━━━━━━━━━━━━\u001b[0m\u001b[37m\u001b[0m \u001b[1m806s\u001b[0m 180ms/step - loss: 0.1163 - val_loss: 0.0608 - learning_rate: 0.0010\n",
      "Epoch 5/60\n",
      "\u001b[1m4466/4466\u001b[0m \u001b[32m━━━━━━━━━━━━━━━━━━━━\u001b[0m\u001b[37m\u001b[0m \u001b[1m1072s\u001b[0m 240ms/step - loss: 0.0872 - val_loss: 0.0399 - learning_rate: 0.0010\n",
      "Epoch 6/60\n",
      "\u001b[1m4466/4466\u001b[0m \u001b[32m━━━━━━━━━━━━━━━━━━━━\u001b[0m\u001b[37m\u001b[0m \u001b[1m1063s\u001b[0m 238ms/step - loss: 0.0754 - val_loss: 0.0323 - learning_rate: 0.0010\n",
      "Epoch 7/60\n",
      "\u001b[1m4466/4466\u001b[0m \u001b[32m━━━━━━━━━━━━━━━━━━━━\u001b[0m\u001b[37m\u001b[0m \u001b[1m788s\u001b[0m 176ms/step - loss: 0.0484 - val_loss: 0.0198 - learning_rate: 0.0010\n",
      "Epoch 8/60\n",
      "\u001b[1m4466/4466\u001b[0m \u001b[32m━━━━━━━━━━━━━━━━━━━━\u001b[0m\u001b[37m\u001b[0m \u001b[1m797s\u001b[0m 179ms/step - loss: 0.0364 - val_loss: 0.0143 - learning_rate: 0.0010\n",
      "Epoch 9/60\n",
      "\u001b[1m4466/4466\u001b[0m \u001b[32m━━━━━━━━━━━━━━━━━━━━\u001b[0m\u001b[37m\u001b[0m \u001b[1m791s\u001b[0m 177ms/step - loss: 0.0456 - val_loss: 0.0128 - learning_rate: 0.0010\n",
      "Epoch 10/60\n",
      "\u001b[1m4466/4466\u001b[0m \u001b[32m━━━━━━━━━━━━━━━━━━━━\u001b[0m\u001b[37m\u001b[0m \u001b[1m792s\u001b[0m 177ms/step - loss: 0.0320 - val_loss: 0.0176 - learning_rate: 0.0010\n",
      "Epoch 11/60\n",
      "\u001b[1m4466/4466\u001b[0m \u001b[32m━━━━━━━━━━━━━━━━━━━━\u001b[0m\u001b[37m\u001b[0m \u001b[1m800s\u001b[0m 179ms/step - loss: 0.0205 - val_loss: 0.0359 - learning_rate: 0.0010\n",
      "Epoch 12/60\n",
      "\u001b[1m4466/4466\u001b[0m \u001b[32m━━━━━━━━━━━━━━━━━━━━\u001b[0m\u001b[37m\u001b[0m \u001b[1m794s\u001b[0m 178ms/step - loss: 0.0211 - val_loss: 0.0054 - learning_rate: 0.0010\n",
      "Epoch 13/60\n",
      "\u001b[1m4466/4466\u001b[0m \u001b[32m━━━━━━━━━━━━━━━━━━━━\u001b[0m\u001b[37m\u001b[0m \u001b[1m791s\u001b[0m 177ms/step - loss: 0.0196 - val_loss: 0.0043 - learning_rate: 0.0010\n",
      "Epoch 14/60\n",
      "\u001b[1m4466/4466\u001b[0m \u001b[32m━━━━━━━━━━━━━━━━━━━━\u001b[0m\u001b[37m\u001b[0m \u001b[1m792s\u001b[0m 177ms/step - loss: 0.0183 - val_loss: 0.3609 - learning_rate: 0.0010\n",
      "Epoch 15/60\n",
      "\u001b[1m4466/4466\u001b[0m \u001b[32m━━━━━━━━━━━━━━━━━━━━\u001b[0m\u001b[37m\u001b[0m \u001b[1m775s\u001b[0m 174ms/step - loss: 0.0214 - val_loss: 0.0038 - learning_rate: 0.0010\n",
      "Epoch 16/60\n",
      "\u001b[1m4466/4466\u001b[0m \u001b[32m━━━━━━━━━━━━━━━━━━━━\u001b[0m\u001b[37m\u001b[0m \u001b[1m771s\u001b[0m 173ms/step - loss: 0.0101 - val_loss: 0.0030 - learning_rate: 0.0010\n",
      "Epoch 17/60\n",
      "\u001b[1m4466/4466\u001b[0m \u001b[32m━━━━━━━━━━━━━━━━━━━━\u001b[0m\u001b[37m\u001b[0m \u001b[1m776s\u001b[0m 174ms/step - loss: 0.0108 - val_loss: 0.0030 - learning_rate: 0.0010\n",
      "Epoch 18/60\n",
      "\u001b[1m4466/4466\u001b[0m \u001b[32m━━━━━━━━━━━━━━━━━━━━\u001b[0m\u001b[37m\u001b[0m \u001b[1m775s\u001b[0m 173ms/step - loss: 0.0158 - val_loss: 0.0033 - learning_rate: 0.0010\n",
      "Epoch 19/60\n",
      "\u001b[1m4466/4466\u001b[0m \u001b[32m━━━━━━━━━━━━━━━━━━━━\u001b[0m\u001b[37m\u001b[0m \u001b[1m778s\u001b[0m 174ms/step - loss: 0.0062 - val_loss: 0.0048 - learning_rate: 0.0010\n",
      "Epoch 20/60\n",
      "\u001b[1m4466/4466\u001b[0m \u001b[32m━━━━━━━━━━━━━━━━━━━━\u001b[0m\u001b[37m\u001b[0m \u001b[1m801s\u001b[0m 179ms/step - loss: 0.0066 - val_loss: 0.0039 - learning_rate: 0.0010\n",
      "Epoch 21/60\n",
      "\u001b[1m4466/4466\u001b[0m \u001b[32m━━━━━━━━━━━━━━━━━━━━\u001b[0m\u001b[37m\u001b[0m \u001b[1m797s\u001b[0m 178ms/step - loss: 0.0055 - val_loss: 0.0018 - learning_rate: 0.0010\n",
      "Epoch 22/60\n",
      "\u001b[1m4466/4466\u001b[0m \u001b[32m━━━━━━━━━━━━━━━━━━━━\u001b[0m\u001b[37m\u001b[0m \u001b[1m797s\u001b[0m 178ms/step - loss: 0.0059 - val_loss: 0.0024 - learning_rate: 0.0010\n",
      "Epoch 23/60\n",
      "\u001b[1m4466/4466\u001b[0m \u001b[32m━━━━━━━━━━━━━━━━━━━━\u001b[0m\u001b[37m\u001b[0m \u001b[1m799s\u001b[0m 179ms/step - loss: 0.0065 - val_loss: 0.0024 - learning_rate: 0.0010\n",
      "Epoch 24/60\n",
      "\u001b[1m4466/4466\u001b[0m \u001b[32m━━━━━━━━━━━━━━━━━━━━\u001b[0m\u001b[37m\u001b[0m \u001b[1m863s\u001b[0m 193ms/step - loss: 0.0223 - val_loss: 0.0016 - learning_rate: 0.0010\n",
      "Epoch 25/60\n",
      "\u001b[1m4466/4466\u001b[0m \u001b[32m━━━━━━━━━━━━━━━━━━━━\u001b[0m\u001b[37m\u001b[0m \u001b[1m844s\u001b[0m 189ms/step - loss: 0.0087 - val_loss: 0.0014 - learning_rate: 0.0010\n",
      "Epoch 26/60\n",
      "\u001b[1m4466/4466\u001b[0m \u001b[32m━━━━━━━━━━━━━━━━━━━━\u001b[0m\u001b[37m\u001b[0m \u001b[1m785s\u001b[0m 176ms/step - loss: 0.0067 - val_loss: 0.0018 - learning_rate: 0.0010\n",
      "Epoch 27/60\n",
      "\u001b[1m4466/4466\u001b[0m \u001b[32m━━━━━━━━━━━━━━━━━━━━\u001b[0m\u001b[37m\u001b[0m \u001b[1m788s\u001b[0m 176ms/step - loss: 0.0105 - val_loss: 0.0012 - learning_rate: 0.0010\n",
      "Epoch 28/60\n",
      "\u001b[1m4466/4466\u001b[0m \u001b[32m━━━━━━━━━━━━━━━━━━━━\u001b[0m\u001b[37m\u001b[0m \u001b[1m788s\u001b[0m 176ms/step - loss: 0.0041 - val_loss: 0.0014 - learning_rate: 0.0010\n",
      "Epoch 29/60\n",
      "\u001b[1m4466/4466\u001b[0m \u001b[32m━━━━━━━━━━━━━━━━━━━━\u001b[0m\u001b[37m\u001b[0m \u001b[1m787s\u001b[0m 176ms/step - loss: 0.0035 - val_loss: 0.0104 - learning_rate: 0.0010\n",
      "Epoch 30/60\n",
      "\u001b[1m4466/4466\u001b[0m \u001b[32m━━━━━━━━━━━━━━━━━━━━\u001b[0m\u001b[37m\u001b[0m \u001b[1m795s\u001b[0m 178ms/step - loss: 0.0034 - val_loss: 0.0010 - learning_rate: 0.0010\n",
      "Epoch 31/60\n",
      "\u001b[1m4466/4466\u001b[0m \u001b[32m━━━━━━━━━━━━━━━━━━━━\u001b[0m\u001b[37m\u001b[0m \u001b[1m795s\u001b[0m 178ms/step - loss: 0.0033 - val_loss: 0.0028 - learning_rate: 0.0010\n",
      "Epoch 32/60\n",
      "\u001b[1m4466/4466\u001b[0m \u001b[32m━━━━━━━━━━━━━━━━━━━━\u001b[0m\u001b[37m\u001b[0m \u001b[1m793s\u001b[0m 178ms/step - loss: 0.0052 - val_loss: 0.0016 - learning_rate: 0.0010\n",
      "Epoch 33/60\n",
      "\u001b[1m4466/4466\u001b[0m \u001b[32m━━━━━━━━━━━━━━━━━━━━\u001b[0m\u001b[37m\u001b[0m \u001b[1m797s\u001b[0m 178ms/step - loss: 0.0017 - val_loss: 0.0011 - learning_rate: 0.0010\n",
      "Epoch 34/60\n",
      "\u001b[1m4466/4466\u001b[0m \u001b[32m━━━━━━━━━━━━━━━━━━━━\u001b[0m\u001b[37m\u001b[0m \u001b[1m796s\u001b[0m 178ms/step - loss: 0.0018 - val_loss: 0.0032 - learning_rate: 0.0010\n",
      "Epoch 35/60\n",
      "\u001b[1m4466/4466\u001b[0m \u001b[32m━━━━━━━━━━━━━━━━━━━━\u001b[0m\u001b[37m\u001b[0m \u001b[1m0s\u001b[0m 153ms/step - loss: 0.0019   \n",
      "Epoch 35: ReduceLROnPlateau reducing learning rate to 0.0005000000237487257.\n",
      "\u001b[1m4466/4466\u001b[0m \u001b[32m━━━━━━━━━━━━━━━━━━━━\u001b[0m\u001b[37m\u001b[0m \u001b[1m800s\u001b[0m 179ms/step - loss: 0.0019 - val_loss: 0.0017 - learning_rate: 0.0010\n",
      "Epoch 35: early stopping\n",
      "Restoring model weights from the end of the best epoch: 30.\n"
     ]
    },
    {
     "data": {
      "image/png": "[encoded data removed]",
      "text/plain": [
       "<Figure size 640x480 with 1 Axes>"
      ]
     },
     "metadata": {},
     "output_type": "display_data"
    }
   ],
   "source": [
    "h = History()\n",
    "rlr = ReduceLROnPlateau(monitor='val_loss', factor=0.5,patience=5, min_lr=0.000001, verbose=1, min_delta=1e-6)\n",
    "opt = Adam(learning_rate=0.001) #Default 0.001\n",
    "model.compile(optimizer=opt, loss='categorical_crossentropy')\n",
    "early_stopping = EarlyStopping(\n",
    "    monitor=\"val_loss\",  \n",
    "    patience=5,          \n",
    "    restore_best_weights=True,  \n",
    "    verbose=1            \n",
    ")\n",
    "\n",
    "model.fit([X_train, y_train, X_train], Y_train,\n",
    "          epochs=60,\n",
    "          batch_size=512,\n",
    "          shuffle=True,\n",
    "          callbacks=[h, rlr, early_stopping],\n",
    "          validation_data=[[X_test, y_test, X_test], Y_test])\n",
    "\n",
    "\n",
    "plt.plot(h.history['loss'], label='Training loss')\n",
    "plt.plot(h.history['val_loss'], label='Validation loss')\n",
    "plt.xlabel('Epochs')\n",
    "plt.ylabel('Loss')\n",
    "plt.title('Training and Validation Loss')\n",
    "plt.legend()\n",
    "\n",
    "\n",
    "plt.show()"
   ]
  },
  {
   "cell_type": "markdown",
   "id": "6725ad01-39e0-4671-81e7-03d995072d59",
   "metadata": {},
   "source": [
    "## 保存模型"
   ]
  },
  {
   "cell_type": "code",
   "execution_count": 79,
   "id": "09593cd9-010c-41d0-bfd3-802978e8255f",
   "metadata": {},
   "outputs": [],
   "source": [
    "model.save('Seq2Seq_model.keras') "
   ]
  },
  {
   "cell_type": "markdown",
   "id": "d8009ebd-7b53-422d-bf1e-83cfad5396e6",
   "metadata": {},
   "source": [
    "## 加载模型"
   ]
  },
  {
   "cell_type": "code",
   "execution_count": 14,
   "id": "ae2762c9-aeec-4caa-a19b-703288dbe406",
   "metadata": {},
   "outputs": [
    {
     "name": "stderr",
     "output_type": "stream",
     "text": [
      "D:\\machinelearning\\envs\\myenv\\lib\\site-packages\\keras\\src\\saving\\saving_lib.py:757: UserWarning: Skipping variable loading for optimizer 'rmsprop', because it has 16 variables whereas the saved optimizer has 30 variables. \n",
      "  saveable.load_own_variables(weights_store.get(inner_path))\n"
     ]
    }
   ],
   "source": [
    "import tensorflow as tf\n",
    "loaded_model = tf.keras.models.load_model('Seq2Seq_model.keras')"
   ]
  },
  {
   "cell_type": "markdown",
   "id": "a641bfad-30de-4f56-b5fa-aad68f2ad929",
   "metadata": {},
   "source": [
    "## 潜在空间生成分子"
   ]
  },
  {
   "cell_type": "code",
   "execution_count": 8,
   "id": "96acbbd4-8c3a-4103-a38d-0ba335c6e76c",
   "metadata": {},
   "outputs": [],
   "source": [
    "smiles_to_latent_model = Model([encoder_inputs, property_input], neck_outputs)\n",
    "\n",
    "\n",
    "latent_input = Input(shape=(latent_dim,))\n",
    "state_h_decoded_2 = decode_h(latent_input)\n",
    "state_c_decoded_2 = decode_c(latent_input)\n",
    "latent_to_states_model = Model(latent_input, [state_h_decoded_2, state_c_decoded_2])\n",
    "\n",
    "inf_decoder_inputs = Input(batch_shape=(1, 1, input_shape[1]))\n",
    "inf_decoder_lstm = LSTM(lstm_dim,\n",
    "                        return_sequences=True,\n",
    "                        unroll=unroll,\n",
    "                        stateful=True)\n",
    "inf_decoder_outputs = inf_decoder_lstm(inf_decoder_inputs)\n",
    "inf_decoder_dense = Dense(output_dim, activation='softmax')\n",
    "inf_decoder_outputs = inf_decoder_dense(inf_decoder_outputs)\n",
    "sample_model = Model(inf_decoder_inputs, inf_decoder_outputs)"
   ]
  },
  {
   "cell_type": "code",
   "execution_count": 9,
   "id": "8815e4df-cb30-4abb-bfa4-55aa92c14a57",
   "metadata": {},
   "outputs": [
    {
     "data": {
      "text/html": [
       "<pre style=\"white-space:pre;overflow-x:auto;line-height:normal;font-family:Menlo,'DejaVu Sans Mono',consolas,'Courier New',monospace\"><span style=\"font-weight: bold\">Model: \"functional_3\"</span>\n",
       "</pre>\n"
      ],
      "text/plain": [
       "\u001b[1mModel: \"functional_3\"\u001b[0m\n"
      ]
     },
     "metadata": {},
     "output_type": "display_data"
    },
    {
     "data": {
      "text/html": [
       "<pre style=\"white-space:pre;overflow-x:auto;line-height:normal;font-family:Menlo,'DejaVu Sans Mono',consolas,'Courier New',monospace\">┏━━━━━━━━━━━━━━━━━━━━━━━━━━━━━━━━━━━━━━┳━━━━━━━━━━━━━━━━━━━━━━━━━━━━━┳━━━━━━━━━━━━━━━━━┓\n",
       "┃<span style=\"font-weight: bold\"> Layer (type)                         </span>┃<span style=\"font-weight: bold\"> Output Shape                </span>┃<span style=\"font-weight: bold\">         Param # </span>┃\n",
       "┡━━━━━━━━━━━━━━━━━━━━━━━━━━━━━━━━━━━━━━╇━━━━━━━━━━━━━━━━━━━━━━━━━━━━━╇━━━━━━━━━━━━━━━━━┩\n",
       "│ input_layer_3 (<span style=\"color: #0087ff; text-decoration-color: #0087ff\">InputLayer</span>)           │ (<span style=\"color: #00af00; text-decoration-color: #00af00\">1</span>, <span style=\"color: #00af00; text-decoration-color: #00af00\">1</span>, <span style=\"color: #00af00; text-decoration-color: #00af00\">22</span>)                  │               <span style=\"color: #00af00; text-decoration-color: #00af00\">0</span> │\n",
       "├──────────────────────────────────────┼─────────────────────────────┼─────────────────┤\n",
       "│ lstm_2 (<span style=\"color: #0087ff; text-decoration-color: #0087ff\">LSTM</span>)                        │ (<span style=\"color: #00af00; text-decoration-color: #00af00\">1</span>, <span style=\"color: #00af00; text-decoration-color: #00af00\">1</span>, <span style=\"color: #00af00; text-decoration-color: #00af00\">128</span>)                 │          <span style=\"color: #00af00; text-decoration-color: #00af00\">77,312</span> │\n",
       "├──────────────────────────────────────┼─────────────────────────────┼─────────────────┤\n",
       "│ dense_4 (<span style=\"color: #0087ff; text-decoration-color: #0087ff\">Dense</span>)                      │ (<span style=\"color: #00af00; text-decoration-color: #00af00\">1</span>, <span style=\"color: #00af00; text-decoration-color: #00af00\">1</span>, <span style=\"color: #00af00; text-decoration-color: #00af00\">22</span>)                  │           <span style=\"color: #00af00; text-decoration-color: #00af00\">2,838</span> │\n",
       "└──────────────────────────────────────┴─────────────────────────────┴─────────────────┘\n",
       "</pre>\n"
      ],
      "text/plain": [
       "┏━━━━━━━━━━━━━━━━━━━━━━━━━━━━━━━━━━━━━━┳━━━━━━━━━━━━━━━━━━━━━━━━━━━━━┳━━━━━━━━━━━━━━━━━┓\n",
       "┃\u001b[1m \u001b[0m\u001b[1mLayer (type)                        \u001b[0m\u001b[1m \u001b[0m┃\u001b[1m \u001b[0m\u001b[1mOutput Shape               \u001b[0m\u001b[1m \u001b[0m┃\u001b[1m \u001b[0m\u001b[1m        Param #\u001b[0m\u001b[1m \u001b[0m┃\n",
       "┡━━━━━━━━━━━━━━━━━━━━━━━━━━━━━━━━━━━━━━╇━━━━━━━━━━━━━━━━━━━━━━━━━━━━━╇━━━━━━━━━━━━━━━━━┩\n",
       "│ input_layer_3 (\u001b[38;5;33mInputLayer\u001b[0m)           │ (\u001b[38;5;34m1\u001b[0m, \u001b[38;5;34m1\u001b[0m, \u001b[38;5;34m22\u001b[0m)                  │               \u001b[38;5;34m0\u001b[0m │\n",
       "├──────────────────────────────────────┼─────────────────────────────┼─────────────────┤\n",
       "│ lstm_2 (\u001b[38;5;33mLSTM\u001b[0m)                        │ (\u001b[38;5;34m1\u001b[0m, \u001b[38;5;34m1\u001b[0m, \u001b[38;5;34m128\u001b[0m)                 │          \u001b[38;5;34m77,312\u001b[0m │\n",
       "├──────────────────────────────────────┼─────────────────────────────┼─────────────────┤\n",
       "│ dense_4 (\u001b[38;5;33mDense\u001b[0m)                      │ (\u001b[38;5;34m1\u001b[0m, \u001b[38;5;34m1\u001b[0m, \u001b[38;5;34m22\u001b[0m)                  │           \u001b[38;5;34m2,838\u001b[0m │\n",
       "└──────────────────────────────────────┴─────────────────────────────┴─────────────────┘\n"
      ]
     },
     "metadata": {},
     "output_type": "display_data"
    },
    {
     "data": {
      "text/html": [
       "<pre style=\"white-space:pre;overflow-x:auto;line-height:normal;font-family:Menlo,'DejaVu Sans Mono',consolas,'Courier New',monospace\"><span style=\"font-weight: bold\"> Total params: </span><span style=\"color: #00af00; text-decoration-color: #00af00\">80,150</span> (313.09 KB)\n",
       "</pre>\n"
      ],
      "text/plain": [
       "\u001b[1m Total params: \u001b[0m\u001b[38;5;34m80,150\u001b[0m (313.09 KB)\n"
      ]
     },
     "metadata": {},
     "output_type": "display_data"
    },
    {
     "data": {
      "text/html": [
       "<pre style=\"white-space:pre;overflow-x:auto;line-height:normal;font-family:Menlo,'DejaVu Sans Mono',consolas,'Courier New',monospace\"><span style=\"font-weight: bold\"> Trainable params: </span><span style=\"color: #00af00; text-decoration-color: #00af00\">80,150</span> (313.09 KB)\n",
       "</pre>\n"
      ],
      "text/plain": [
       "\u001b[1m Trainable params: \u001b[0m\u001b[38;5;34m80,150\u001b[0m (313.09 KB)\n"
      ]
     },
     "metadata": {},
     "output_type": "display_data"
    },
    {
     "data": {
      "text/html": [
       "<pre style=\"white-space:pre;overflow-x:auto;line-height:normal;font-family:Menlo,'DejaVu Sans Mono',consolas,'Courier New',monospace\"><span style=\"font-weight: bold\"> Non-trainable params: </span><span style=\"color: #00af00; text-decoration-color: #00af00\">0</span> (0.00 B)\n",
       "</pre>\n"
      ],
      "text/plain": [
       "\u001b[1m Non-trainable params: \u001b[0m\u001b[38;5;34m0\u001b[0m (0.00 B)\n"
      ]
     },
     "metadata": {},
     "output_type": "display_data"
    }
   ],
   "source": [
    "for i in range(1, 3):  # i 是解码器相关的LSTM层（具体的层数需要根据你模型的具体结构来调整）\n",
    "    sample_model.layers[i].set_weights(model.layers[i+7].get_weights())\n",
    "sample_model.summary()"
   ]
  },
  {
   "cell_type": "code",
   "execution_count": 10,
   "id": "26c098fc-c1e9-483d-a305-d5f7bb02eea9",
   "metadata": {},
   "outputs": [
    {
     "name": "stdout",
     "output_type": "stream",
     "text": [
      "\u001b[1m23817/23817\u001b[0m \u001b[32m━━━━━━━━━━━━━━━━━━━━\u001b[0m\u001b[37m\u001b[0m \u001b[1m169s\u001b[0m 7ms/step\n"
     ]
    }
   ],
   "source": [
    "x_latent = smiles_to_latent_model.predict([X_test, y_test])"
   ]
  },
  {
   "cell_type": "code",
   "execution_count": 74,
   "id": "345a6ca1-bf26-4ee7-ba4f-9e48a00a3e65",
   "metadata": {},
   "outputs": [],
   "source": [
    "def latent_to_smiles(latent, property_value):\n",
    "    states = latent_to_states_model.predict(latent, verbose=0)\n",
    "    startidx = docs['<go>']\n",
    "    samplevec = np.zeros((1, 1, len(docs)))  # 不要硬编码 22，使用 len(docs)\n",
    "    samplevec[0, 0, startidx] = 1\n",
    "    smiles = \"\"\n",
    "\n",
    "    state_h, state_c = states\n",
    "\n",
    "    for i in range(28):\n",
    "        o = sample_model.predict(samplevec, verbose=0)\n",
    "        sampleidx = np.argmax(o)\n",
    "        samplechar = docs_swap[sampleidx]\n",
    "        if samplechar != '<eos>':\n",
    "            smiles = smiles + samplechar\n",
    "            samplevec = np.zeros((1, 1, len(docs)))\n",
    "            samplevec[0, 0, sampleidx] = 1\n",
    "        else:\n",
    "            break\n",
    "    return smiles\n"
   ]
  },
  {
   "cell_type": "code",
   "execution_count": 75,
   "id": "4ee181f0-8d17-4144-9575-8db9763f2ec1",
   "metadata": {},
   "outputs": [],
   "source": [
    "property_value = np.array([0, -0.2, 20])"
   ]
  },
  {
   "cell_type": "code",
   "execution_count": 93,
   "id": "fcc2a588-79bc-4062-bfce-6e6eb077da0f",
   "metadata": {},
   "outputs": [
    {
     "name": "stderr",
     "output_type": "stream",
     "text": [
      "[11:37:24] Explicit valence for atom # 15 O, 3, is greater than permitted\n"
     ]
    },
    {
     "name": "stdout",
     "output_type": "stream",
     "text": [
      "COCOOCONOC1COCCCo1C\n"
     ]
    },
    {
     "name": "stderr",
     "output_type": "stream",
     "text": [
      "[11:37:26] Explicit valence for atom # 8 O, 4, is greater than permitted\n"
     ]
    },
    {
     "name": "stdout",
     "output_type": "stream",
     "text": [
      "COCCOCOCo1oc1COCC1oo1=CCON=O\n"
     ]
    },
    {
     "name": "stderr",
     "output_type": "stream",
     "text": [
      "[11:37:26] SMILES Parse Error: unclosed ring for input: 'COCCON1CF'\n"
     ]
    },
    {
     "name": "stdout",
     "output_type": "stream",
     "text": [
      "COCCON1CF\n"
     ]
    },
    {
     "name": "stderr",
     "output_type": "stream",
     "text": [
      "[11:37:28] SMILES Parse Error: ring closure 1 duplicates bond between atom 1 and atom 2 for input: 'oo1C1COC1=OCCO1CCO1=O=o3C1C4'\n"
     ]
    },
    {
     "name": "stdout",
     "output_type": "stream",
     "text": [
      "oo1C1COC1=OCCO1CCO1=O=o3C1C4\n"
     ]
    },
    {
     "name": "stderr",
     "output_type": "stream",
     "text": [
      "[11:37:29] SMILES Parse Error: unclosed ring for input: 'COCON1=O'\n"
     ]
    },
    {
     "name": "stdout",
     "output_type": "stream",
     "text": [
      "COCON1=O\n"
     ]
    },
    {
     "name": "stderr",
     "output_type": "stream",
     "text": [
      "[11:37:29] SMILES Parse Error: unclosed ring for input: 'COCCON1CF'\n"
     ]
    },
    {
     "name": "stdout",
     "output_type": "stream",
     "text": [
      "COCCON1CF\n"
     ]
    },
    {
     "name": "stderr",
     "output_type": "stream",
     "text": [
      "[11:37:30] SMILES Parse Error: unclosed ring for input: 'oo1CO1COC1COC'\n"
     ]
    },
    {
     "name": "stdout",
     "output_type": "stream",
     "text": [
      "oo1CO1COC1COC\n"
     ]
    },
    {
     "name": "stderr",
     "output_type": "stream",
     "text": [
      "[11:37:31] non-ring atom 0 marked aromatic\n"
     ]
    },
    {
     "name": "stdout",
     "output_type": "stream",
     "text": [
      "ocN1COC1COC\n"
     ]
    },
    {
     "name": "stderr",
     "output_type": "stream",
     "text": [
      "[11:37:32] SMILES Parse Error: unclosed ring for input: 'oOCCON1CCOC'\n"
     ]
    },
    {
     "name": "stdout",
     "output_type": "stream",
     "text": [
      "oOCCON1CCOC\n"
     ]
    },
    {
     "name": "stderr",
     "output_type": "stream",
     "text": [
      "[11:37:32] non-ring atom 0 marked aromatic\n"
     ]
    },
    {
     "name": "stdout",
     "output_type": "stream",
     "text": [
      "oO\n"
     ]
    },
    {
     "name": "stderr",
     "output_type": "stream",
     "text": [
      "[11:37:34] SMILES Parse Error: unclosed ring for input: 'COCONOC1COCo1oc1CCO=CO=COC=O'\n"
     ]
    },
    {
     "name": "stdout",
     "output_type": "stream",
     "text": [
      "COCONOC1COCo1oc1CCO=CO=COC=O\n"
     ]
    },
    {
     "name": "stderr",
     "output_type": "stream",
     "text": [
      "[11:37:36] SMILES Parse Error: ring closure 1 duplicates bond between atom 1 and atom 2 for input: 'oo1C1CON1CCCOC1OCCO1C'\n"
     ]
    },
    {
     "name": "stdout",
     "output_type": "stream",
     "text": [
      "oo1C1CON1CCCOC1OCCO1C\n"
     ]
    },
    {
     "name": "stderr",
     "output_type": "stream",
     "text": [
      "[11:37:38] SMILES Parse Error: ring closure 1 duplicates bond between atom 10 and atom 11 for input: 'oo1COC1OCOCOo1o1CCO1CCO1=OCC'\n"
     ]
    },
    {
     "name": "stdout",
     "output_type": "stream",
     "text": [
      "oo1COC1OCOCOo1o1CCO1CCO1=OCC\n"
     ]
    },
    {
     "name": "stderr",
     "output_type": "stream",
     "text": [
      "[11:37:39] SMILES Parse Error: unclosed ring for input: 'oOCCO1OCOCO'\n"
     ]
    },
    {
     "name": "stdout",
     "output_type": "stream",
     "text": [
      "oOCCO1OCOCO\n"
     ]
    },
    {
     "name": "stderr",
     "output_type": "stream",
     "text": [
      "[11:37:41] Explicit valence for atom # 7 O, 3, is greater than permitted\n"
     ]
    },
    {
     "name": "stdout",
     "output_type": "stream",
     "text": [
      "COCONOCO1OCCOCCo1\n"
     ]
    },
    {
     "name": "stderr",
     "output_type": "stream",
     "text": [
      "[11:37:43] SMILES Parse Error: unclosed ring for input: 'COCCOOC1oO1CCo1CCOCo1o1CCO=C'\n"
     ]
    },
    {
     "name": "stdout",
     "output_type": "stream",
     "text": [
      "COCCOOC1oO1CCo1CCOCo1o1CCO=C\n"
     ]
    },
    {
     "name": "stderr",
     "output_type": "stream",
     "text": [
      "[11:37:44] SMILES Parse Error: unclosed ring for input: 'CCOCOC1ONC'\n"
     ]
    },
    {
     "name": "stdout",
     "output_type": "stream",
     "text": [
      "CCOCOC1ONC\n"
     ]
    },
    {
     "name": "stderr",
     "output_type": "stream",
     "text": [
      "[11:37:46] SMILES Parse Error: unclosed ring for input: 'CCOCONOCC1OCCOo1CCo1OCo1o1CC'\n"
     ]
    },
    {
     "name": "stdout",
     "output_type": "stream",
     "text": [
      "CCOCONOCC1OCCOo1CCo1OCo1o1CC\n"
     ]
    },
    {
     "name": "stderr",
     "output_type": "stream",
     "text": [
      "[11:37:48] SMILES Parse Error: unclosed ring for input: 'CCOCOC1NOCCo1Ooc1OCCO=OC'\n"
     ]
    },
    {
     "name": "stdout",
     "output_type": "stream",
     "text": [
      "CCOCOC1NOCCo1Ooc1OCCO=OC\n"
     ]
    },
    {
     "name": "stderr",
     "output_type": "stream",
     "text": [
      "[11:37:50] SMILES Parse Error: ring closure 1 duplicates bond between atom 1 and atom 2 for input: 'oo1C1OCC1OC=OCC1OC=OC1'\n"
     ]
    },
    {
     "name": "stdout",
     "output_type": "stream",
     "text": [
      "oo1C1OCC1OC=OCC1OC=OC1\n"
     ]
    },
    {
     "name": "stderr",
     "output_type": "stream",
     "text": [
      "[11:37:51] SMILES Parse Error: ring closure 1 duplicates bond between atom 6 and atom 7 for input: 'CCOCONC1C1OCOCOC'\n"
     ]
    },
    {
     "name": "stdout",
     "output_type": "stream",
     "text": [
      "CCOCONC1C1OCOCOC\n",
      "oOCCOCo1oco1O=COC=NCC\n"
     ]
    },
    {
     "name": "stderr",
     "output_type": "stream",
     "text": [
      "[11:37:52] Explicit valence for atom # 6 O, 4, is greater than permitted\n"
     ]
    },
    {
     "data": {
      "image/png": "[encoded data removed]",
      "text/plain": [
       "<IPython.core.display.Image object>"
      ]
     },
     "execution_count": 93,
     "metadata": {},
     "output_type": "execute_result"
    }
   ],
   "source": [
    "latent1 = x_latent[2:3]\n",
    "latent0 = x_latent[8:9]\n",
    "mols1 = []\n",
    "ratios = np.linspace(0,1,30)\n",
    "for r in ratios:\n",
    "    rlatent = (1.0 - r) * latent0 + r * latent1\n",
    "    smiles = latent_to_smiles(rlatent, property_value)\n",
    "    mol = Chem.MolFromSmiles(smiles)\n",
    "    if mol:\n",
    "        mols1.append(mol)\n",
    "    else:\n",
    "        print(smiles)\n",
    "\n",
    "Draw.MolsToGridImage(mols1, molsPerRow=5)"
   ]
  },
  {
   "cell_type": "code",
   "execution_count": null,
   "id": "16bad175-2e42-462d-b834-aaa3fc15c792",
   "metadata": {},
   "outputs": [],
   "source": []
  },
  {
   "cell_type": "code",
   "execution_count": null,
   "id": "a4193d13-a099-4d21-8020-d708e1b489b9",
   "metadata": {},
   "outputs": [],
   "source": []
  },
  {
   "cell_type": "code",
   "execution_count": null,
   "id": "89bb288e-9abb-4a9b-98bd-e06996316e33",
   "metadata": {},
   "outputs": [],
   "source": []
  },
  {
   "cell_type": "code",
   "execution_count": null,
   "id": "e6e2243f-1ff1-4d18-899a-8d733be7d74c",
   "metadata": {},
   "outputs": [],
   "source": []
  }
 ],
 "metadata": {
  "kernelspec": {
   "display_name": "Python 3 (ipykernel)",
   "language": "python",
   "name": "python3"
  },
  "language_info": {
   "codemirror_mode": {
    "name": "ipython",
    "version": 3
   },
   "file_extension": ".py",
   "mimetype": "text/x-python",
   "name": "python",
   "nbconvert_exporter": "python",
   "pygments_lexer": "ipython3",
   "version": "3.9.21"
  }
 },
 "nbformat": 4,
 "nbformat_minor": 5
}
