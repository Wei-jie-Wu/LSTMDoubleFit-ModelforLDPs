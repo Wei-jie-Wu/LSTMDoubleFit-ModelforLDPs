{
 "cells": [
  {
   "cell_type": "code",
   "execution_count": 1,
   "id": "766363a0-32fe-43ff-a2a9-fc1d19476635",
   "metadata": {},
   "outputs": [
    {
     "name": "stderr",
     "output_type": "stream",
     "text": [
      "Processing SMILES: 100%|█████████████████████████████████████████████████████████████| 37/37 [00:00<00:00, 3073.12it/s]\n"
     ]
    }
   ],
   "source": [
    "import pandas as pd\n",
    "from rdkit import Chem\n",
    "from rdkit.Chem import MolSurf\n",
    "from tqdm import tqdm\n",
    "\n",
    "df = pd.read_csv('11.csv')\n",
    "\n",
    "smiles_column = 'SMILES'\n",
    "\n",
    "def calculate_slogp_vsa2(smiles):\n",
    "    mol = Chem.MolFromSmiles(smiles)\n",
    "    if mol:\n",
    "        return MolSurf.SlogP_VSA2(mol)\n",
    "    else:\n",
    "        return None\n",
    "\n",
    "tqdm.pandas(desc=\"Processing SMILES\")\n",
    "df['SlogP_VSA2'] = df[smiles_column].progress_apply(calculate_slogp_vsa2)\n",
    "\n",
    "df.to_csv('1.csv', index=False)\n"
   ]
  },
  {
   "cell_type": "code",
   "execution_count": null,
   "id": "8058733e-9fdc-4e78-bdbf-a2456b782e08",
   "metadata": {},
   "outputs": [],
   "source": []
  },
  {
   "cell_type": "code",
   "execution_count": null,
   "id": "ce9e0450-0f44-486e-8c22-13c6cda4208d",
   "metadata": {},
   "outputs": [],
   "source": []
  },
  {
   "cell_type": "code",
   "execution_count": null,
   "id": "27fc7805-460d-421e-9ddf-c508f9a74999",
   "metadata": {},
   "outputs": [],
   "source": []
  }
 ],
 "metadata": {
  "kernelspec": {
   "display_name": "Python 3 (ipykernel)",
   "language": "python",
   "name": "python3"
  },
  "language_info": {
   "codemirror_mode": {
    "name": "ipython",
    "version": 3
   },
   "file_extension": ".py",
   "mimetype": "text/x-python",
   "name": "python",
   "nbconvert_exporter": "python",
   "pygments_lexer": "ipython3",
   "version": "3.9.21"
  }
 },
 "nbformat": 4,
 "nbformat_minor": 5
}
