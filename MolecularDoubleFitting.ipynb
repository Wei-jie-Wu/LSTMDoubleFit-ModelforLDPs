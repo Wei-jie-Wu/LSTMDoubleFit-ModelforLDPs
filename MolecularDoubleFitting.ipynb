{
 "cells": [
  {
   "cell_type": "code",
   "execution_count": 34,
   "id": "8090c947-c61d-424d-993a-0cf34fe10cf6",
   "metadata": {},
   "outputs": [],
   "source": [
    "import pandas as pd\n",
    "import random\n",
    "from rdkit import Chem\n",
    "from rdkit.Chem import Descriptors, rdmolops\n",
    "from rdkit.Chem import MolSurf\n",
    "from rdkit.ML.Descriptors import MoleculeDescriptors\n",
    "from sklearn.preprocessing import StandardScaler\n",
    "from sklearn.metrics.pairwise import cosine_similarity\n",
    "from itertools import product\n",
    "import copy\n",
    "import warnings\n",
    "from rdkit import RDLogger\n",
    "from mordred import Calculator, descriptors\n",
    "\n",
    "# 关闭 RDKit 日志\n",
    "RDLogger.DisableLog('rdApp.*')"
   ]
  },
  {
   "cell_type": "code",
   "execution_count": 35,
   "id": "f1483efb-8a1c-44d8-9c1e-6e0cce60a806",
   "metadata": {},
   "outputs": [],
   "source": [
    "df = pd.read_excel(\"NewMolecules0408.xlsx\") \n",
    "original_smiles = df[\"SMILES\"]\n",
    "\n",
    "hetero_atoms = [\"N\", \"O\", \"F\"]\n",
    "replacement_pool = [\"C\"] * 6 + [\"N\"] * 2 + [\"O\"] * 1 + [\"F\"] * 1  # C占60%\n",
    "\n",
    "valid_new_smiles = []\n",
    "original_to_new = {}"
   ]
  },
  {
   "cell_type": "markdown",
   "id": "e3037256-c060-4472-8088-0bd4c7159981",
   "metadata": {},
   "source": [
    "# 1. 替换为X，然后随机替换X生成新SMILES"
   ]
  },
  {
   "cell_type": "code",
   "execution_count": 36,
   "id": "cc1c5e69-3a0f-4c66-b8e5-884b0df0b89e",
   "metadata": {
    "scrolled": true
   },
   "outputs": [],
   "source": [
    "from rdkit.Chem import rdchem\n",
    "\n",
    "def mutate_bonds_to_double(mol, max_changes=2):\n",
    "    bond_indices = [b.GetIdx() for b in mol.GetBonds() if b.GetBondType() == rdchem.BondType.SINGLE]\n",
    "    if not bond_indices:\n",
    "        return []\n",
    "    mutated_smiles = []\n",
    "    tried_combos = set()\n",
    "    for _ in range(10):\n",
    "        selected = tuple(sorted(random.sample(bond_indices, min(max_changes, len(bond_indices)))) )\n",
    "        if selected in tried_combos:\n",
    "            continue\n",
    "        tried_combos.add(selected)\n",
    "        mol_copy = copy.deepcopy(mol)\n",
    "        for idx in selected:\n",
    "            mol_copy.GetBondWithIdx(idx).SetBondType(rdchem.BondType.DOUBLE)\n",
    "        try:\n",
    "            Chem.SanitizeMol(mol_copy)\n",
    "            smi = Chem.MolToSmiles(mol_copy, isomericSmiles=True)\n",
    "            mutated_smiles.append(smi)\n",
    "        except:\n",
    "            continue\n",
    "    return mutated_smiles\n",
    "\n",
    "for smiles in original_smiles:\n",
    "    mol = Chem.MolFromSmiles(smiles)\n",
    "    if mol is None:\n",
    "        continue\n",
    "    atom_indices = [atom.GetIdx() for atom in mol.GetAtoms() if atom.GetSymbol() in hetero_atoms]\n",
    "    seen = set()\n",
    "\n",
    "    if not atom_indices:\n",
    "        mutated = mutate_bonds_to_double(mol)\n",
    "        for smi in mutated:\n",
    "            if smi not in seen:\n",
    "                seen.add(smi)\n",
    "                valid_new_smiles.append(smi)\n",
    "                original_to_new.setdefault(smiles, []).append(smi)\n",
    "        continue\n",
    "\n",
    "    for replacements in product(replacement_pool, repeat=len(atom_indices)):\n",
    "        new_mol = copy.deepcopy(mol)\n",
    "        for idx, new_symbol in zip(atom_indices, replacements):\n",
    "            new_mol.GetAtomWithIdx(idx).SetAtomicNum(Chem.GetPeriodicTable().GetAtomicNumber(new_symbol))\n",
    "        Chem.SanitizeMol(new_mol, catchErrors=True)\n",
    "        new_smiles = Chem.MolToSmiles(new_mol, isomericSmiles=True)\n",
    "        if new_smiles in seen:\n",
    "            continue\n",
    "        seen.add(new_smiles)\n",
    "        valid_new_smiles.append(new_smiles)\n",
    "        original_to_new.setdefault(smiles, []).append(new_smiles)\n",
    "\n",
    "        # 在替换基础上进一步加双键突变\n",
    "        mutated = mutate_bonds_to_double(new_mol)\n",
    "        for smi in mutated:\n",
    "            if smi not in seen:\n",
    "                seen.add(smi)\n",
    "                valid_new_smiles.append(smi)\n",
    "                original_to_new.setdefault(smiles, []).append(smi)\n"
   ]
  },
  {
   "cell_type": "markdown",
   "id": "7168dc4c-a7e5-4ee8-addd-ba5d9dd3645e",
   "metadata": {},
   "source": [
    "# 2. 计算新SMILES的描述符"
   ]
  },
  {
   "cell_type": "code",
   "execution_count": 37,
   "id": "9f23a3f4-4595-4bf2-869b-20b24fa157a0",
   "metadata": {},
   "outputs": [
    {
     "name": "stderr",
     "output_type": "stream",
     "text": [
      "100%|███████████████████████████████████████████████████████████████████████████| 24785/24785 [00:51<00:00, 479.66it/s]\n"
     ]
    }
   ],
   "source": [
    "# 描述符计算\n",
    "valid_list = []\n",
    "atsc1pe_list = []\n",
    "mats2c_list = []\n",
    "slogp_vsa2_list = []\n",
    "\n",
    "calc = Calculator([descriptors.Autocorrelation])\n",
    "valid_mols = []\n",
    "for smi in valid_new_smiles:\n",
    "    mol = Chem.MolFromSmiles(smi)\n",
    "    if mol:\n",
    "        valid_mols.append(mol)\n",
    "        valid_list.append(smi)\n",
    "\n",
    "if valid_mols:\n",
    "    mordred_df = calc.pandas(valid_mols)\n",
    "    atsc1pe_list = mordred_df.get(\"ATSC1pe\", [None] * len(valid_mols)).tolist()\n",
    "    mats2c_list = mordred_df.get(\"MATS2c\", [None] * len(valid_mols)).tolist()\n",
    "\n",
    "for mol in valid_mols:\n",
    "    slogp_vsa2_list.append(MolSurf.SlogP_VSA2(mol))\n",
    "\n",
    "original_map = {}\n",
    "for orig, new_list in original_to_new.items():\n",
    "    for new_smi in new_list:\n",
    "        original_map[new_smi] = orig\n",
    "\n",
    "descriptor_df = pd.DataFrame({\n",
    "    \"SMILES\": valid_list,\n",
    "    \"Original_SMILES\": [original_map[s] for s in valid_list],\n",
    "    \"O_ATSC1pe\": atsc1pe_list,\n",
    "    \"O_MATS2c\": mats2c_list,\n",
    "    \"O_SlogP_VSA2\": slogp_vsa2_list\n",
    "})"
   ]
  },
  {
   "cell_type": "markdown",
   "id": "cd0a617f-0665-4f57-ac49-e09d436d2041",
   "metadata": {},
   "source": [
    "# 3. 比较相似性"
   ]
  },
  {
   "cell_type": "code",
   "execution_count": 38,
   "id": "0c73b10e-c264-4280-9654-7bf6dbb22a0b",
   "metadata": {},
   "outputs": [],
   "source": [
    "def calc_similarity(a, b):\n",
    "    if a == 0 and b == 0:\n",
    "        return 1.0\n",
    "    elif a == 0 or b == 0:\n",
    "        return 0.0\n",
    "    else:\n",
    "        return 1 - abs(a - b) / max(abs(a), abs(b))"
   ]
  },
  {
   "cell_type": "code",
   "execution_count": 39,
   "id": "6d63e8fa-8d19-4956-8762-1612dfabce63",
   "metadata": {},
   "outputs": [],
   "source": [
    "merged_df = descriptor_df.merge(\n",
    "    df[[\"SMILES\", \"P_ATSC1pe\", \"P_MATS2c\", \"P_SlogP_VSA2\"]],\n",
    "    left_on=\"Original_SMILES\",\n",
    "    right_on=\"SMILES\",\n",
    "    how=\"left\"\n",
    ")\n",
    "\n",
    "def row_similarity(row):\n",
    "    sim1 = calc_similarity(row[\"O_ATSC1pe\"], row[\"P_ATSC1pe\"])\n",
    "    sim2 = calc_similarity(row[\"O_MATS2c\"], row[\"P_MATS2c\"])\n",
    "    sim3 = calc_similarity(row[\"O_SlogP_VSA2\"], row[\"P_SlogP_VSA2\"])\n",
    "    return (sim1 + sim2 + sim3) / 3"
   ]
  },
  {
   "cell_type": "code",
   "execution_count": 40,
   "id": "2dd375a5-ab47-4964-81a5-03da62870b1c",
   "metadata": {},
   "outputs": [],
   "source": [
    "merged_df[\"AvgSimilarity\"] = merged_df.apply(row_similarity, axis=1)"
   ]
  },
  {
   "cell_type": "code",
   "execution_count": 43,
   "id": "1cda2334-069f-489f-a4be-4b95ee4fef36",
   "metadata": {},
   "outputs": [],
   "source": [
    "threshold = 0.8\n",
    "top_similar = merged_df[merged_df[\"AvgSimilarity\"] >= threshold]\n",
    "\n",
    "top_similar.to_csv(\"80similar_newSMILES_0411.csv\", index=False)"
   ]
  },
  {
   "cell_type": "code",
   "execution_count": 42,
   "id": "a9a1400b-8305-41bf-8552-bb90c691afc0",
   "metadata": {},
   "outputs": [],
   "source": [
    "descriptor_df.to_csv(\"ReplaceMolecular_0411.csv\", index=False)"
   ]
  },
  {
   "cell_type": "markdown",
   "id": "052fd290-d850-4bc4-a7fc-39332af3c749",
   "metadata": {},
   "source": [
    "# 可视化"
   ]
  },
  {
   "cell_type": "code",
   "execution_count": 33,
   "id": "2961f296-ea41-4ded-9373-3dbdce418bb2",
   "metadata": {},
   "outputs": [
    {
     "name": "stdout",
     "output_type": "stream",
     "text": [
      "已成功保存为 PDF：molecules.pdf\n"
     ]
    }
   ],
   "source": [
    "import pandas as pd\n",
    "from rdkit import Chem\n",
    "from rdkit.Chem import Draw\n",
    "from PIL import Image\n",
    "from IPython.display import display\n",
    "\n",
    "# === 配置 ===\n",
    "file_path = '80similar_newSMILES_2.csv'\n",
    "smiles_column = 'SMILES_x'\n",
    "mols_per_row = 4\n",
    "mols_per_page = 16\n",
    "output_pdf_path = 'molecules.pdf'\n",
    "\n",
    "# === 读取 SMILES ===\n",
    "df = pd.read_csv(file_path)\n",
    "smiles_list = df[smiles_column].dropna().tolist()\n",
    "\n",
    "# === SMILES 转换为分子对象 ===\n",
    "mols = [Chem.MolFromSmiles(smi) for smi in smiles_list if Chem.MolFromSmiles(smi) is not None]\n",
    "\n",
    "# === 分页绘图 ===\n",
    "pages = []\n",
    "for i in range(0, len(mols), mols_per_page):\n",
    "    mol_chunk = mols[i:i + mols_per_page]\n",
    "    legends = smiles_list[i:i + len(mol_chunk)]\n",
    "\n",
    "    img = Draw.MolsToGridImage(\n",
    "        mol_chunk,\n",
    "        molsPerRow=mols_per_row,\n",
    "        subImgSize=(200, 200),\n",
    "        legends=legends,\n",
    "        returnPNG=False  # 返回 PIL.Image\n",
    "    )\n",
    "    pages.append(img.convert(\"RGB\"))  # PDF 需要 RGB 格式\n",
    "\n",
    "# === 保存为 PDF ===\n",
    "if pages:\n",
    "    pages[0].save(\n",
    "        output_pdf_path,\n",
    "        save_all=True,\n",
    "        append_images=pages[1:]\n",
    "    )\n",
    "    print(f\"已成功保存为 PDF：{output_pdf_path}\")\n",
    "else:\n",
    "    print(\"没有有效的分子可视化，未生成 PDF。\")\n"
   ]
  },
  {
   "cell_type": "code",
   "execution_count": null,
   "id": "01bbe1f7-54a6-4e8a-b48c-11601441f446",
   "metadata": {},
   "outputs": [],
   "source": []
  },
  {
   "cell_type": "code",
   "execution_count": null,
   "id": "d3bff040-3c8c-4b3b-97ac-8e2921564641",
   "metadata": {},
   "outputs": [],
   "source": []
  },
  {
   "cell_type": "code",
   "execution_count": null,
   "id": "5d517b84-3c2f-464b-b0f3-f53fe40412c4",
   "metadata": {},
   "outputs": [],
   "source": []
  },
  {
   "cell_type": "code",
   "execution_count": null,
   "id": "036613e7-392b-4681-b2c6-fdd497ee1fda",
   "metadata": {},
   "outputs": [],
   "source": []
  },
  {
   "cell_type": "code",
   "execution_count": null,
   "id": "9fa8a620-4024-41e8-8153-539c0d31c116",
   "metadata": {},
   "outputs": [],
   "source": []
  },
  {
   "cell_type": "code",
   "execution_count": null,
   "id": "278d9023-806d-4471-907b-d2649bfc6119",
   "metadata": {},
   "outputs": [],
   "source": []
  },
  {
   "cell_type": "code",
   "execution_count": null,
   "id": "185f1b73-a78c-4d69-89ee-58cc442cd5d4",
   "metadata": {},
   "outputs": [],
   "source": []
  },
  {
   "cell_type": "code",
   "execution_count": null,
   "id": "325d6c51-21ce-48dc-bb52-edfb68a8d0ef",
   "metadata": {},
   "outputs": [],
   "source": []
  },
  {
   "cell_type": "code",
   "execution_count": null,
   "id": "d3a3090b-4d9d-4b1a-ac6d-cacaf9dd748e",
   "metadata": {},
   "outputs": [],
   "source": []
  }
 ],
 "metadata": {
  "kernelspec": {
   "display_name": "Python 3 (ipykernel)",
   "language": "python",
   "name": "python3"
  },
  "language_info": {
   "codemirror_mode": {
    "name": "ipython",
    "version": 3
   },
   "file_extension": ".py",
   "mimetype": "text/x-python",
   "name": "python",
   "nbconvert_exporter": "python",
   "pygments_lexer": "ipython3",
   "version": "3.9.21"
  }
 },
 "nbformat": 4,
 "nbformat_minor": 5
}
